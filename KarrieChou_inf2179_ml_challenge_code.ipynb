{
  "nbformat": 4,
  "nbformat_minor": 0,
  "metadata": {
    "colab": {
      "provenance": [],
      "collapsed_sections": [
        "Mz95kNXxqP9V",
        "5XSTOKA9pUug"
      ],
      "authorship_tag": "ABX9TyMqnpL+GJtSSuSgCAI5T1Wk",
      "include_colab_link": true
    },
    "kernelspec": {
      "name": "python3",
      "display_name": "Python 3"
    },
    "language_info": {
      "name": "python"
    }
  },
  "cells": [
    {
      "cell_type": "markdown",
      "metadata": {
        "id": "view-in-github",
        "colab_type": "text"
      },
      "source": [
        "<a href=\"https://colab.research.google.com/github/karriechou/inf2179-ml-challenge/blob/main/KarrieChou_inf2179_ml_challenge_code.ipynb\" target=\"_parent\"><img src=\"https://colab.research.google.com/assets/colab-badge.svg\" alt=\"Open In Colab\"/></a>"
      ]
    },
    {
      "cell_type": "code",
      "execution_count": 1,
      "metadata": {
        "id": "gKrDv_V2TVLZ"
      },
      "outputs": [],
      "source": [
        "import random\n",
        "import numpy as np\n",
        "import pandas as pd\n",
        "import matplotlib.pyplot as plt\n",
        "import seaborn as sns\n",
        "from sklearn.neighbors import KNeighborsClassifier"
      ]
    },
    {
      "cell_type": "code",
      "source": [
        "random.seed(123)"
      ],
      "metadata": {
        "id": "gbPs2vfXdIrh"
      },
      "execution_count": 2,
      "outputs": []
    },
    {
      "cell_type": "markdown",
      "source": [
        "# One-hot encoding of variables"
      ],
      "metadata": {
        "id": "tHF5NHk0XYZy"
      }
    },
    {
      "cell_type": "code",
      "source": [
        "training_data = pd.read_csv(\"train.csv\")\n",
        "training_data.head(5)"
      ],
      "metadata": {
        "colab": {
          "base_uri": "https://localhost:8080/",
          "height": 270
        },
        "id": "Mg4_DBwxa_N1",
        "outputId": "543939db-63e0-4621-f998-8aeafc1b8399"
      },
      "execution_count": 7,
      "outputs": [
        {
          "output_type": "execute_result",
          "data": {
            "text/plain": [
              "  Booking_ID  no_of_adults  no_of_children  no_of_weekend_nights  \\\n",
              "0   INN06611             1               0                     1   \n",
              "1   INN28944             2               0                     0   \n",
              "2   INN21921             2               0                     1   \n",
              "3   INN12669             1               0                     0   \n",
              "4   INN30837             3               0                     1   \n",
              "\n",
              "   no_of_week_nights type_of_meal_plan  required_car_parking_space  \\\n",
              "0                  1       Meal Plan 2                           0   \n",
              "1                  3       Meal Plan 1                           0   \n",
              "2                  5       Meal Plan 1                           0   \n",
              "3                  2       Meal Plan 1                           1   \n",
              "4                  3       Meal Plan 1                           0   \n",
              "\n",
              "  room_type_reserved  lead_time  arrival_year  arrival_month  arrival_date  \\\n",
              "0        Room_Type 1        247          2018              6             6   \n",
              "1        Room_Type 4         48          2018              6             8   \n",
              "2        Room_Type 4        124          2018              9            20   \n",
              "3        Room_Type 1         37          2017              9            16   \n",
              "4        Room_Type 4         73          2018              7             4   \n",
              "\n",
              "  market_segment_type  repeated_guest  no_of_previous_cancellations  \\\n",
              "0             Offline               0                             0   \n",
              "1              Online               0                             0   \n",
              "2              Online               0                             0   \n",
              "3              Online               0                             0   \n",
              "4              Online               0                             0   \n",
              "\n",
              "   no_of_previous_bookings_not_canceled  avg_price_per_room  \\\n",
              "0                                     0               90.00   \n",
              "1                                     0               98.87   \n",
              "2                                     0              143.10   \n",
              "3                                     0               85.50   \n",
              "4                                     0              150.30   \n",
              "\n",
              "   no_of_special_requests booking_status  \n",
              "0                       0   Not_Canceled  \n",
              "1                       2   Not_Canceled  \n",
              "2                       0       Canceled  \n",
              "3                       0   Not_Canceled  \n",
              "4                       2   Not_Canceled  "
            ],
            "text/html": [
              "\n",
              "  <div id=\"df-27bd878e-004a-4b57-a5a5-35a8de4d6e32\">\n",
              "    <div class=\"colab-df-container\">\n",
              "      <div>\n",
              "<style scoped>\n",
              "    .dataframe tbody tr th:only-of-type {\n",
              "        vertical-align: middle;\n",
              "    }\n",
              "\n",
              "    .dataframe tbody tr th {\n",
              "        vertical-align: top;\n",
              "    }\n",
              "\n",
              "    .dataframe thead th {\n",
              "        text-align: right;\n",
              "    }\n",
              "</style>\n",
              "<table border=\"1\" class=\"dataframe\">\n",
              "  <thead>\n",
              "    <tr style=\"text-align: right;\">\n",
              "      <th></th>\n",
              "      <th>Booking_ID</th>\n",
              "      <th>no_of_adults</th>\n",
              "      <th>no_of_children</th>\n",
              "      <th>no_of_weekend_nights</th>\n",
              "      <th>no_of_week_nights</th>\n",
              "      <th>type_of_meal_plan</th>\n",
              "      <th>required_car_parking_space</th>\n",
              "      <th>room_type_reserved</th>\n",
              "      <th>lead_time</th>\n",
              "      <th>arrival_year</th>\n",
              "      <th>arrival_month</th>\n",
              "      <th>arrival_date</th>\n",
              "      <th>market_segment_type</th>\n",
              "      <th>repeated_guest</th>\n",
              "      <th>no_of_previous_cancellations</th>\n",
              "      <th>no_of_previous_bookings_not_canceled</th>\n",
              "      <th>avg_price_per_room</th>\n",
              "      <th>no_of_special_requests</th>\n",
              "      <th>booking_status</th>\n",
              "    </tr>\n",
              "  </thead>\n",
              "  <tbody>\n",
              "    <tr>\n",
              "      <th>0</th>\n",
              "      <td>INN06611</td>\n",
              "      <td>1</td>\n",
              "      <td>0</td>\n",
              "      <td>1</td>\n",
              "      <td>1</td>\n",
              "      <td>Meal Plan 2</td>\n",
              "      <td>0</td>\n",
              "      <td>Room_Type 1</td>\n",
              "      <td>247</td>\n",
              "      <td>2018</td>\n",
              "      <td>6</td>\n",
              "      <td>6</td>\n",
              "      <td>Offline</td>\n",
              "      <td>0</td>\n",
              "      <td>0</td>\n",
              "      <td>0</td>\n",
              "      <td>90.00</td>\n",
              "      <td>0</td>\n",
              "      <td>Not_Canceled</td>\n",
              "    </tr>\n",
              "    <tr>\n",
              "      <th>1</th>\n",
              "      <td>INN28944</td>\n",
              "      <td>2</td>\n",
              "      <td>0</td>\n",
              "      <td>0</td>\n",
              "      <td>3</td>\n",
              "      <td>Meal Plan 1</td>\n",
              "      <td>0</td>\n",
              "      <td>Room_Type 4</td>\n",
              "      <td>48</td>\n",
              "      <td>2018</td>\n",
              "      <td>6</td>\n",
              "      <td>8</td>\n",
              "      <td>Online</td>\n",
              "      <td>0</td>\n",
              "      <td>0</td>\n",
              "      <td>0</td>\n",
              "      <td>98.87</td>\n",
              "      <td>2</td>\n",
              "      <td>Not_Canceled</td>\n",
              "    </tr>\n",
              "    <tr>\n",
              "      <th>2</th>\n",
              "      <td>INN21921</td>\n",
              "      <td>2</td>\n",
              "      <td>0</td>\n",
              "      <td>1</td>\n",
              "      <td>5</td>\n",
              "      <td>Meal Plan 1</td>\n",
              "      <td>0</td>\n",
              "      <td>Room_Type 4</td>\n",
              "      <td>124</td>\n",
              "      <td>2018</td>\n",
              "      <td>9</td>\n",
              "      <td>20</td>\n",
              "      <td>Online</td>\n",
              "      <td>0</td>\n",
              "      <td>0</td>\n",
              "      <td>0</td>\n",
              "      <td>143.10</td>\n",
              "      <td>0</td>\n",
              "      <td>Canceled</td>\n",
              "    </tr>\n",
              "    <tr>\n",
              "      <th>3</th>\n",
              "      <td>INN12669</td>\n",
              "      <td>1</td>\n",
              "      <td>0</td>\n",
              "      <td>0</td>\n",
              "      <td>2</td>\n",
              "      <td>Meal Plan 1</td>\n",
              "      <td>1</td>\n",
              "      <td>Room_Type 1</td>\n",
              "      <td>37</td>\n",
              "      <td>2017</td>\n",
              "      <td>9</td>\n",
              "      <td>16</td>\n",
              "      <td>Online</td>\n",
              "      <td>0</td>\n",
              "      <td>0</td>\n",
              "      <td>0</td>\n",
              "      <td>85.50</td>\n",
              "      <td>0</td>\n",
              "      <td>Not_Canceled</td>\n",
              "    </tr>\n",
              "    <tr>\n",
              "      <th>4</th>\n",
              "      <td>INN30837</td>\n",
              "      <td>3</td>\n",
              "      <td>0</td>\n",
              "      <td>1</td>\n",
              "      <td>3</td>\n",
              "      <td>Meal Plan 1</td>\n",
              "      <td>0</td>\n",
              "      <td>Room_Type 4</td>\n",
              "      <td>73</td>\n",
              "      <td>2018</td>\n",
              "      <td>7</td>\n",
              "      <td>4</td>\n",
              "      <td>Online</td>\n",
              "      <td>0</td>\n",
              "      <td>0</td>\n",
              "      <td>0</td>\n",
              "      <td>150.30</td>\n",
              "      <td>2</td>\n",
              "      <td>Not_Canceled</td>\n",
              "    </tr>\n",
              "  </tbody>\n",
              "</table>\n",
              "</div>\n",
              "      <button class=\"colab-df-convert\" onclick=\"convertToInteractive('df-27bd878e-004a-4b57-a5a5-35a8de4d6e32')\"\n",
              "              title=\"Convert this dataframe to an interactive table.\"\n",
              "              style=\"display:none;\">\n",
              "        \n",
              "  <svg xmlns=\"http://www.w3.org/2000/svg\" height=\"24px\"viewBox=\"0 0 24 24\"\n",
              "       width=\"24px\">\n",
              "    <path d=\"M0 0h24v24H0V0z\" fill=\"none\"/>\n",
              "    <path d=\"M18.56 5.44l.94 2.06.94-2.06 2.06-.94-2.06-.94-.94-2.06-.94 2.06-2.06.94zm-11 1L8.5 8.5l.94-2.06 2.06-.94-2.06-.94L8.5 2.5l-.94 2.06-2.06.94zm10 10l.94 2.06.94-2.06 2.06-.94-2.06-.94-.94-2.06-.94 2.06-2.06.94z\"/><path d=\"M17.41 7.96l-1.37-1.37c-.4-.4-.92-.59-1.43-.59-.52 0-1.04.2-1.43.59L10.3 9.45l-7.72 7.72c-.78.78-.78 2.05 0 2.83L4 21.41c.39.39.9.59 1.41.59.51 0 1.02-.2 1.41-.59l7.78-7.78 2.81-2.81c.8-.78.8-2.07 0-2.86zM5.41 20L4 18.59l7.72-7.72 1.47 1.35L5.41 20z\"/>\n",
              "  </svg>\n",
              "      </button>\n",
              "      \n",
              "  <style>\n",
              "    .colab-df-container {\n",
              "      display:flex;\n",
              "      flex-wrap:wrap;\n",
              "      gap: 12px;\n",
              "    }\n",
              "\n",
              "    .colab-df-convert {\n",
              "      background-color: #E8F0FE;\n",
              "      border: none;\n",
              "      border-radius: 50%;\n",
              "      cursor: pointer;\n",
              "      display: none;\n",
              "      fill: #1967D2;\n",
              "      height: 32px;\n",
              "      padding: 0 0 0 0;\n",
              "      width: 32px;\n",
              "    }\n",
              "\n",
              "    .colab-df-convert:hover {\n",
              "      background-color: #E2EBFA;\n",
              "      box-shadow: 0px 1px 2px rgba(60, 64, 67, 0.3), 0px 1px 3px 1px rgba(60, 64, 67, 0.15);\n",
              "      fill: #174EA6;\n",
              "    }\n",
              "\n",
              "    [theme=dark] .colab-df-convert {\n",
              "      background-color: #3B4455;\n",
              "      fill: #D2E3FC;\n",
              "    }\n",
              "\n",
              "    [theme=dark] .colab-df-convert:hover {\n",
              "      background-color: #434B5C;\n",
              "      box-shadow: 0px 1px 3px 1px rgba(0, 0, 0, 0.15);\n",
              "      filter: drop-shadow(0px 1px 2px rgba(0, 0, 0, 0.3));\n",
              "      fill: #FFFFFF;\n",
              "    }\n",
              "  </style>\n",
              "\n",
              "      <script>\n",
              "        const buttonEl =\n",
              "          document.querySelector('#df-27bd878e-004a-4b57-a5a5-35a8de4d6e32 button.colab-df-convert');\n",
              "        buttonEl.style.display =\n",
              "          google.colab.kernel.accessAllowed ? 'block' : 'none';\n",
              "\n",
              "        async function convertToInteractive(key) {\n",
              "          const element = document.querySelector('#df-27bd878e-004a-4b57-a5a5-35a8de4d6e32');\n",
              "          const dataTable =\n",
              "            await google.colab.kernel.invokeFunction('convertToInteractive',\n",
              "                                                     [key], {});\n",
              "          if (!dataTable) return;\n",
              "\n",
              "          const docLinkHtml = 'Like what you see? Visit the ' +\n",
              "            '<a target=\"_blank\" href=https://colab.research.google.com/notebooks/data_table.ipynb>data table notebook</a>'\n",
              "            + ' to learn more about interactive tables.';\n",
              "          element.innerHTML = '';\n",
              "          dataTable['output_type'] = 'display_data';\n",
              "          await google.colab.output.renderOutput(dataTable, element);\n",
              "          const docLink = document.createElement('div');\n",
              "          docLink.innerHTML = docLinkHtml;\n",
              "          element.appendChild(docLink);\n",
              "        }\n",
              "      </script>\n",
              "    </div>\n",
              "  </div>\n",
              "  "
            ]
          },
          "metadata": {},
          "execution_count": 7
        }
      ]
    },
    {
      "cell_type": "code",
      "source": [
        "# training_data[\"type_of_meal_plan\"].unique()\n",
        "training_data[\"type_of_meal_plan_onehot\"] = training_data[\"type_of_meal_plan\"].replace({\"Not Selected\": 0, \n",
        "                                                                                        \"Meal Plan 1\": 1, \n",
        "                                                                                        \"Meal Plan 2\": 2, \n",
        "                                                                                        \"Meal Plan 3\": 3})\n",
        "\n",
        "# training_data[\"room_type_reserved\"].unique()\n",
        "training_data[\"room_type_reserved_onehot\"] = training_data[\"room_type_reserved\"].replace({\"Room_Type 1\": 0, \n",
        "                                                                                          \"Room_Type 2\": 1, \n",
        "                                                                                          \"Room_Type 3\": 2, \n",
        "                                                                                          \"Room_Type 4\": 3, \n",
        "                                                                                          \"Room_Type 5\": 4, \n",
        "                                                                                          \"Room_Type 6\": 5, \n",
        "                                                                                          \"Room_Type 7\": 6})\n",
        "\n",
        "# training_data[\"arrival_year\"].unique()\n",
        "training_data[\"arrival_year_onehot\"] = training_data[\"arrival_year\"].replace({2017: 0, \n",
        "                                                                              2018: 1})\n",
        "\n",
        "\n",
        "# training_data[\"market_segment_type\"].unique()\n",
        "training_data[\"market_segment_type_onehot\"] = training_data[\"market_segment_type\"].replace({\"Offline\": 0, \n",
        "                                                                                            \"Online\": 1, \n",
        "                                                                                            \"Corporate\": 2, \n",
        "                                                                                            \"Aviation\": 3, \n",
        "                                                                                            \"Complementary\": 4})\n",
        "\n",
        "training_data = training_data.drop([\"type_of_meal_plan\", \"room_type_reserved\", \"market_segment_type\"], axis = 1)"
      ],
      "metadata": {
        "id": "zXYHjiWaU3O6"
      },
      "execution_count": 9,
      "outputs": []
    },
    {
      "cell_type": "markdown",
      "source": [
        "# Feature engineering"
      ],
      "metadata": {
        "id": "_VXb8pqlqsCI"
      }
    },
    {
      "cell_type": "code",
      "source": [
        "training_data[\"stay_length\"] = training_data[\"no_of_weekend_nights\"] + training_data[\"no_of_week_nights\"]"
      ],
      "metadata": {
        "id": "2rYbc5QHqu-C"
      },
      "execution_count": 10,
      "outputs": []
    },
    {
      "cell_type": "markdown",
      "source": [
        "# EDA – plots"
      ],
      "metadata": {
        "id": "XZmKmn7ab8z5"
      }
    },
    {
      "cell_type": "code",
      "source": [
        "children_median = np.median(training_data[\"no_of_children\"])\n",
        "children_sd = np.std(training_data[\"no_of_children\"])\n",
        "\n",
        "adults_median = np.median(training_data[\"no_of_adults\"])\n",
        "adults_sd = np.std(training_data[\"no_of_adults\"])\n",
        "\n",
        "plt.ylim(0, 3)\n",
        "plt.xlabel(\"Median Values\")\n",
        "plt.ylabel(\"Number\")\n",
        "plt.bar(x = [\"Children\", \"Adults\"], height = [children_median, adults_median], \n",
        "        yerr = [children_sd, adults_sd], color = \"pink\")"
      ],
      "metadata": {
        "id": "BncRhc0q69U9",
        "outputId": "a9fc27aa-6971-47bf-acf9-dea24ab918d2",
        "colab": {
          "base_uri": "https://localhost:8080/",
          "height": 300
        }
      },
      "execution_count": 33,
      "outputs": [
        {
          "output_type": "execute_result",
          "data": {
            "text/plain": [
              "<BarContainer object of 2 artists>"
            ]
          },
          "metadata": {},
          "execution_count": 33
        },
        {
          "output_type": "display_data",
          "data": {
            "text/plain": [
              "<Figure size 432x288 with 1 Axes>"
            ],
            "image/png": "[encoded data removed]"
          },
          "metadata": {
            "needs_background": "light"
          }
        }
      ]
    },
    {
      "cell_type": "code",
      "source": [
        "no_of_children_index = training_data[\"no_of_children\"].value_counts().index.tolist()\n",
        "no_of_children_count = training_data[\"no_of_children\"].value_counts().sort_index(ascending = True)\n",
        "plt.bar(x = no_of_children_index, height = no_of_children_count, color =\"pink\")"
      ],
      "metadata": {
        "colab": {
          "base_uri": "https://localhost:8080/",
          "height": 282
        },
        "id": "b3-lxtJkckBn",
        "outputId": "48e1e99a-3ab4-415a-e43e-3055bc31aaff"
      },
      "execution_count": null,
      "outputs": [
        {
          "output_type": "execute_result",
          "data": {
            "text/plain": [
              "<BarContainer object of 6 artists>"
            ]
          },
          "metadata": {},
          "execution_count": 11
        },
        {
          "output_type": "display_data",
          "data": {
            "text/plain": [
              "<Figure size 432x288 with 1 Axes>"
            ],
            "image/png": "[encoded data removed]"
          },
          "metadata": {
            "needs_background": "light"
          }
        }
      ]
    },
    {
      "cell_type": "code",
      "source": [
        "no_of_adults_index = training_data[\"no_of_adults\"].value_counts().index.tolist()\n",
        "no_of_adults_count = training_data[\"no_of_adults\"].value_counts().sort_index(ascending = True)\n",
        "plt.bar(x = no_of_adults_index, height = no_of_adults_count, color = \"pink\")"
      ],
      "metadata": {
        "colab": {
          "base_uri": "https://localhost:8080/",
          "height": 282
        },
        "id": "Jnr2B2xhe3Al",
        "outputId": "bb50ab04-edc6-4047-dcd4-f8fbb6ca7817"
      },
      "execution_count": null,
      "outputs": [
        {
          "output_type": "execute_result",
          "data": {
            "text/plain": [
              "<BarContainer object of 5 artists>"
            ]
          },
          "metadata": {},
          "execution_count": 12
        },
        {
          "output_type": "display_data",
          "data": {
            "text/plain": [
              "<Figure size 432x288 with 1 Axes>"
            ],
            "image/png": "[encoded data removed]"
          },
          "metadata": {
            "needs_background": "light"
          }
        }
      ]
    },
    {
      "cell_type": "code",
      "source": [
        "adults_vs_children = pd.pivot_table(data = training_data, values = \"Booking_ID\", columns = \"no_of_adults\", index = \"no_of_children\", aggfunc = \"count\")\n",
        "sns.heatmap(adults_vs_children, cmap = \"RdPu\", annot = True, fmt = \".0f\")"
      ],
      "metadata": {
        "colab": {
          "base_uri": "https://localhost:8080/",
          "height": 297
        },
        "id": "w_JriqAcgYAj",
        "outputId": "ed818adf-4f2b-40ee-d957-500ca4a533dc"
      },
      "execution_count": null,
      "outputs": [
        {
          "output_type": "execute_result",
          "data": {
            "text/plain": [
              "<AxesSubplot:xlabel='no_of_adults', ylabel='no_of_children'>"
            ]
          },
          "metadata": {},
          "execution_count": 8
        },
        {
          "output_type": "display_data",
          "data": {
            "text/plain": [
              "<Figure size 432x288 with 2 Axes>"
            ],
            "image/png": "[encoded data removed]"
          },
          "metadata": {
            "needs_background": "light"
          }
        }
      ]
    },
    {
      "cell_type": "code",
      "source": [
        "stay_length_index = training_data[\"stay_length\"].value_counts().index.tolist()\n",
        "stay_length_counts = training_data[\"stay_length\"].value_counts().sort_index(ascending = True)\n",
        "plt.bar(x = stay_length_index, height = stay_length_counts, color =\"pink\")"
      ],
      "metadata": {
        "id": "IQFTwXKfrCDu",
        "outputId": "b0d00e51-fd22-40c1-aa0b-9fcfb45ed351",
        "colab": {
          "base_uri": "https://localhost:8080/",
          "height": 282
        }
      },
      "execution_count": null,
      "outputs": [
        {
          "output_type": "execute_result",
          "data": {
            "text/plain": [
              "<BarContainer object of 24 artists>"
            ]
          },
          "metadata": {},
          "execution_count": 13
        },
        {
          "output_type": "display_data",
          "data": {
            "text/plain": [
              "<Figure size 432x288 with 1 Axes>"
            ],
            "image/png": "[encoded data removed]"
          },
          "metadata": {
            "needs_background": "light"
          }
        }
      ]
    },
    {
      "cell_type": "markdown",
      "source": [
        "# EDA – t-tests"
      ],
      "metadata": {
        "id": "Mz95kNXxqP9V"
      }
    },
    {
      "cell_type": "code",
      "source": [],
      "metadata": {
        "id": "lpdTdb-gqTGl"
      },
      "execution_count": null,
      "outputs": []
    },
    {
      "cell_type": "markdown",
      "source": [
        "# KNN Classifier\n",
        "\n",
        "Look at Tutorial 6. "
      ],
      "metadata": {
        "id": "5XSTOKA9pUug"
      }
    },
    {
      "cell_type": "code",
      "source": [],
      "metadata": {
        "id": "Oxh_9y5KpT_w"
      },
      "execution_count": null,
      "outputs": []
    }
  ]
}